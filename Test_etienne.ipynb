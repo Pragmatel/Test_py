{
 "cells": [
  {
   "attachments": {},
   "cell_type": "markdown",
   "metadata": {},
   "source": [
    "# Contact Feature"
   ]
  },
  {
   "attachments": {},
   "cell_type": "markdown",
   "metadata": {},
   "source": [
    "This project consists to create, update and delete contacts from a phone "
   ]
  },
  {
   "attachments": {},
   "cell_type": "markdown",
   "metadata": {},
   "source": [
    "Imported libraries"
   ]
  },
  {
   "cell_type": "code",
   "execution_count": 43,
   "metadata": {},
   "outputs": [],
   "source": [
    "import pandas as pd\n",
    "from datetime import date"
   ]
  },
  {
   "attachments": {},
   "cell_type": "markdown",
   "metadata": {},
   "source": [
    "CLASS"
   ]
  },
  {
   "cell_type": "code",
   "execution_count": 98,
   "metadata": {},
   "outputs": [],
   "source": [
    "class Contact(object):\n",
    "    \n",
    "    def __init__(self, first_name, last_name, phone):\n",
    "        self.first_name = first_name\n",
    "        self.last_name = last_name\n",
    "        self.phone = phone\n",
    "        \n",
    "    def update_contact(self ,first_name ,last_name ,phone) :\n",
    "        self.phone = phone\n",
    "        self.first_name = first_name\n",
    "        self.last_name = last_name\n",
    "        self.updatedate = date.today()\n",
    "\n",
    "        "
   ]
  },
  {
   "attachments": {},
   "cell_type": "markdown",
   "metadata": {},
   "source": [
    "CREATE"
   ]
  },
  {
   "cell_type": "code",
   "execution_count": 121,
   "metadata": {},
   "outputs": [
    {
     "name": "stdout",
     "output_type": "stream",
     "text": [
      "{'Etienne': 0, 'Barberi': 0, '06435475836': 0}\n",
      "{'Pateick': 0, 'julien': 0, '058365839': 0}\n"
     ]
    }
   ],
   "source": [
    "user_input = input(\"Create new contact ? (o/n)\")\n",
    "\n",
    "while user_input =='o':\n",
    "        f=input('Enter your first name')\n",
    "        l=input('Enter your last name')\n",
    "        p=input('Enter your phone number')\n",
    "        Data = []\n",
    "        Data.append(f)\n",
    "        Data.append(l)\n",
    "        Data.append(p)\n",
    "        Data_dict = dict.fromkeys(Data, 0)\n",
    "        print(Data_dict)\n",
    "        Data = pd.DataFrame(Data)\n",
    "        Data.to_csv(\"Test.csv\", index=False)\n",
    "        user_input = input(\"Create an other contact ? (o/n)\")"
   ]
  },
  {
   "attachments": {},
   "cell_type": "markdown",
   "metadata": {},
   "source": [
    "UPDATE"
   ]
  },
  {
   "cell_type": "code",
   "execution_count": null,
   "metadata": {},
   "outputs": [],
   "source": []
  },
  {
   "attachments": {},
   "cell_type": "markdown",
   "metadata": {},
   "source": [
    "BONUS : DELETE"
   ]
  },
  {
   "cell_type": "code",
   "execution_count": null,
   "metadata": {},
   "outputs": [],
   "source": []
  }
 ],
 "metadata": {
  "kernelspec": {
   "display_name": "Python 3",
   "language": "python",
   "name": "python3"
  },
  "language_info": {
   "codemirror_mode": {
    "name": "ipython",
    "version": 3
   },
   "file_extension": ".py",
   "mimetype": "text/x-python",
   "name": "python",
   "nbconvert_exporter": "python",
   "pygments_lexer": "ipython3",
   "version": "3.11.1"
  },
  "orig_nbformat": 4,
  "vscode": {
   "interpreter": {
    "hash": "2076f277bdad30b6b455478fd87cd2d4c291a12499c32d7fbc611aa5cce4c641"
   }
  }
 },
 "nbformat": 4,
 "nbformat_minor": 2
}
